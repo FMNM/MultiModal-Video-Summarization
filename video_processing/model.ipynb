{
 "cells": [
  {
   "cell_type": "code",
   "execution_count": 1,
   "metadata": {},
   "outputs": [],
   "source": [
    "import os\n",
    "import cv2\n",
    "import torch\n",
    "import numpy as np\n",
    "import pandas as pd\n",
    "from sklearn.cluster import AgglomerativeClustering\n",
    "import matplotlib.pyplot as plt\n",
    "from transformers import VivitConfig, VivitModel, BlipProcessor, BlipForConditionalGeneration, pipeline  # BlipForConditionalGeneration, BlipProcessor, pipeline\n",
    "import whisper\n",
    "import yt_dlp as youtube_dl\n",
    "from ultralytics import YOLO  # Ensure YOLOv5 is installed\n",
    "from PIL import Image\n",
    "from google.cloud import vision\n",
    "os.environ[\"GOOGLE_APPLICATION_CREDENTIALS\"] = \"./industry-project-uts-d68073cc0d1d.json\""
   ]
  },
  {
   "cell_type": "code",
   "execution_count": 2,
   "metadata": {},
   "outputs": [],
   "source": [
    "# Load the dataset\n",
    "dataset = pd.read_csv(\"../video summarization/dataset/youtube.csv\")"
   ]
  },
  {
   "cell_type": "code",
   "execution_count": 3,
   "metadata": {},
   "outputs": [],
   "source": [
    "# Function to download video using yt-dlp\n",
    "def download_video(video_link, output_path):\n",
    "    ydl_opts = {\"format\": \"best\", \"outtmpl\": output_path}\n",
    "    with youtube_dl.YoutubeDL(ydl_opts) as ydl:\n",
    "        ydl.download([video_link])\n",
    "\n",
    "\n",
    "# Step 1: Download the video\n",
    "video_link = dataset[\"link\"][299]\n",
    "video_path = \"downloaded_video - Trim.mp4\"\n",
    "output_folder = \"video_frames\"\n",
    "# download_video(f\"https://www.youtube.com/watch?v={video_link}\", video_path) # Uncomment this line to download the video"
   ]
  },
  {
   "cell_type": "code",
   "execution_count": 4,
   "metadata": {},
   "outputs": [],
   "source": [
    "# Step 2: Extract frames from the video using FFMPEG backend in OpenCV\n",
    "def extract_frames(video_path, output_folder, frame_rate=1):\n",
    "    os.makedirs(output_folder, exist_ok=True)\n",
    "    cap = cv2.VideoCapture(video_path, cv2.CAP_FFMPEG)  # Force OpenCV to use FFMPEG\n",
    "\n",
    "    count = 0\n",
    "    frame_count = 0\n",
    "    while cap.isOpened():\n",
    "        ret, frame = cap.read()\n",
    "        if not ret:\n",
    "            break\n",
    "\n",
    "        if count % frame_rate == 0:\n",
    "            frame_filename = os.path.join(output_folder, f\"frame_{frame_count}.jpg\")\n",
    "            cv2.imwrite(frame_filename, frame)\n",
    "            frame_count += 1\n",
    "\n",
    "        count += 1\n",
    "\n",
    "    cap.release()\n",
    "\n",
    "\n",
    "extract_frames(video_path, output_folder, frame_rate=30)"
   ]
  },
  {
   "cell_type": "code",
   "execution_count": 5,
   "metadata": {},
   "outputs": [],
   "source": [
    "# Step 3: Preprocess frames for ViViT (Video Vision Transformer) model\n",
    "def preprocess_frame(frame, size=(224, 224)):\n",
    "    frame = cv2.cvtColor(frame, cv2.COLOR_BGR2RGB)\n",
    "    frame = cv2.resize(frame, size)\n",
    "    frame = frame / 255.0\n",
    "    frame = np.transpose(frame, (2, 0, 1))  # Now shape is (C, H, W)\n",
    "    return frame\n",
    "\n",
    "\n",
    "def preprocess_all_frames(output_folder, size=(224, 224)):\n",
    "    preprocessed_frames = []\n",
    "    for frame_file in sorted(os.listdir(output_folder)):\n",
    "        frame_path = os.path.join(output_folder, frame_file)\n",
    "        frame = cv2.imread(frame_path)\n",
    "        preprocessed_frame = preprocess_frame(frame, size)\n",
    "        preprocessed_frames.append(preprocessed_frame)\n",
    "    preprocessed_frames = np.stack(preprocessed_frames)\n",
    "    return preprocessed_frames\n",
    "\n",
    "\n",
    "preprocessed_frames = preprocess_all_frames(output_folder)"
   ]
  },
  {
   "cell_type": "code",
   "execution_count": 20,
   "metadata": {},
   "outputs": [],
   "source": [
    "# Function to transcribe audio from video using Whisper\n",
    "def transcribe_audio(video_path):\n",
    "    model = whisper.load_model(\"medium\")  # You can use different sizes: \"tiny\", \"base\", \"small\", \"medium\", \"large\"\n",
    "    result = model.transcribe(video_path)\n",
    "    transcription = result[\"text\"]\n",
    "    return transcription\n",
    "\n",
    "\n",
    "# Function to summarize text in smaller chunks with truncation\n",
    "def summarize_text(text, summarizer, chunk_size=256, max_length=1024):\n",
    "    tokens = text.split()\n",
    "    summaries = []\n",
    "\n",
    "    for i in range(0, len(tokens), chunk_size):\n",
    "        chunk = \" \".join(tokens[i: i + chunk_size])\n",
    "        # Dynamically set max_length based on the length of the chunk\n",
    "        chunk_length = len(chunk.split())\n",
    "        adjusted_max_length = min(max_length, int(chunk_length * 0.5))  # Set max_length to 50% of the chunk length\n",
    "        adjusted_min_length = int(adjusted_max_length * 0.2)  # Set min_length to 20% of max_length\n",
    "        \n",
    "        summary = summarizer(\n",
    "            chunk,\n",
    "            max_length=adjusted_max_length,\n",
    "            min_length=adjusted_min_length,\n",
    "            do_sample=False\n",
    "        )\n",
    "        summaries.append(summary[0][\"summary_text\"])\n",
    "\n",
    "    return \" \".join(summaries)\n",
    "\n",
    "\n",
    "device = torch.device(\"cuda\" if torch.cuda.is_available() else \"cpu\")"
   ]
  },
  {
   "cell_type": "code",
   "execution_count": 7,
   "metadata": {},
   "outputs": [],
   "source": [
    "# Step 4: Advanced Feature Extraction using ViViT\n",
    "def extract_vivit_features(preprocessed_frames, num_frames_per_segment=3):\n",
    "    torch.cuda.empty_cache()\n",
    "    configuration = VivitConfig(image_size=224, num_frames=num_frames_per_segment)\n",
    "    model = VivitModel(configuration)\n",
    "    model.eval()\n",
    "\n",
    "    # Convert frames to tensor\n",
    "    frames_tensor = torch.tensor(preprocessed_frames, dtype=torch.float32)\n",
    "    batch_size = frames_tensor.shape[0] // num_frames_per_segment\n",
    "    frames_tensor = frames_tensor[: batch_size * num_frames_per_segment]\n",
    "    frames_tensor = frames_tensor.view(batch_size, num_frames_per_segment, 3, 224, 224)\n",
    "\n",
    "    frames_tensor = frames_tensor.to(device)\n",
    "    model = model.to(device)\n",
    "\n",
    "    with torch.no_grad():\n",
    "        outputs = model(frames_tensor)\n",
    "\n",
    "    # outputs.last_hidden_state has shape (batch_size, seq_length, hidden_dim)\n",
    "    print(\"outputs.last_hidden_state.shape:\", outputs.last_hidden_state.shape)\n",
    "\n",
    "    # Extract the CLS token representation\n",
    "    video_features = outputs.last_hidden_state[:, 0, :]  # Shape: (batch_size, hidden_dim)\n",
    "    print(\"video_features.shape:\", video_features.shape)\n",
    "\n",
    "    return video_features"
   ]
  },
  {
   "cell_type": "code",
   "execution_count": 8,
   "metadata": {},
   "outputs": [],
   "source": [
    "# Step 5: Scene Transition Extraction with Advanced Contextual Feature Changes\n",
    "def compute_feature_differences(features):\n",
    "    \"\"\"\n",
    "    Compute the differences between consecutive feature vectors across time.\n",
    "    Args:\n",
    "        features: tensor of shape (num_frames, feature_dim)\n",
    "    Returns:\n",
    "        diff: a tensor representing the difference between consecutive frame features\n",
    "    \"\"\"\n",
    "    # Convert features to numpy array\n",
    "    features_np = features.cpu().numpy()\n",
    "\n",
    "    # Compute pairwise feature distance (Euclidean) between consecutive frames\n",
    "    feature_diffs = np.linalg.norm(np.diff(features_np, axis=0), axis=1)\n",
    "\n",
    "    return feature_diffs\n",
    "\n",
    "\n",
    "def detect_scene_transitions(features, threshold=0.7):\n",
    "    \"\"\"\n",
    "    Detect significant scene transitions based on feature differences.\n",
    "    Args:\n",
    "        features: tensor of shape (num_frames, feature_dim)\n",
    "        threshold: threshold value for detecting scene change\n",
    "    Returns:\n",
    "        scene_transition_indices: list of indices where scene transitions occur\n",
    "    \"\"\"\n",
    "    feature_diffs = compute_feature_differences(features)\n",
    "\n",
    "    # Plot differences for visualization\n",
    "    plt.figure()\n",
    "    plt.plot(feature_diffs)\n",
    "    plt.title(\"Feature Differences Between Consecutive Frames\")\n",
    "    plt.xlabel(\"Frame\")\n",
    "    plt.ylabel(\"Feature Difference\")\n",
    "    plt.show()\n",
    "\n",
    "    # Scene transitions are where the feature difference exceeds the threshold\n",
    "    scene_transition_indices = np.where(feature_diffs > threshold)[0]\n",
    "\n",
    "    return scene_transition_indices\n",
    "\n",
    "\n",
    "# Step 6: Apply Temporal Coherence via Agglomerative Clustering\n",
    "def cluster_scene_transitions(features, scene_transition_indices, num_clusters=5):\n",
    "    \"\"\"\n",
    "    Cluster the detected scene transitions into coherent groups using Agglomerative Clustering.\n",
    "    Args:\n",
    "        features: tensor of shape (num_frames, feature_dim)\n",
    "        scene_transition_indices: indices of detected scene transitions\n",
    "        num_clusters: number of scene clusters\n",
    "    Returns:\n",
    "        clustered_scenes: list of indices corresponding to clustered scene transitions\n",
    "    \"\"\"\n",
    "    # Extract the transition features\n",
    "    transition_features = features[scene_transition_indices].cpu().numpy()\n",
    "\n",
    "    # Use Agglomerative Clustering with temporal constraint (Ward linkage)\n",
    "    clustering_model = AgglomerativeClustering(n_clusters=num_clusters, linkage=\"ward\").fit(transition_features)\n",
    "\n",
    "    clustered_scenes = []\n",
    "    for cluster_label in range(num_clusters):\n",
    "        cluster_indices = np.where(clustering_model.labels_ == cluster_label)[0]\n",
    "        # Select the first frame in the cluster\n",
    "        clustered_scenes.append(scene_transition_indices[cluster_indices[0]])\n",
    "\n",
    "    return clustered_scenes"
   ]
  },
  {
   "cell_type": "code",
   "execution_count": 9,
   "metadata": {},
   "outputs": [
    {
     "name": "stdout",
     "output_type": "stream",
     "text": [
      "outputs.last_hidden_state.shape: torch.Size([366, 197, 768])\n",
      "video_features.shape: torch.Size([366, 768])\n"
     ]
    },
    {
     "data": {
      "image/png": "[encoded data removed]",
      "text/plain": [
       "<Figure size 640x480 with 1 Axes>"
      ]
     },
     "metadata": {},
     "output_type": "display_data"
    }
   ],
   "source": [
    "# Extract video features using ViViT\n",
    "video_features = extract_vivit_features(preprocessed_frames)\n",
    "\n",
    "# Detect scene transitions\n",
    "scene_transition_indices = detect_scene_transitions(video_features)\n",
    "\n",
    "# Cluster the scene transitions\n",
    "clustered_scenes = cluster_scene_transitions(video_features, scene_transition_indices)"
   ]
  },
  {
   "cell_type": "code",
   "execution_count": 10,
   "metadata": {},
   "outputs": [],
   "source": [
    "# Step 7: Object Detection with YOLOv5\n",
    "yolo_model = YOLO(\"yolov5xu.pt\").to(device)  # Replace \"yolov5s.pt\" with the correct path if necessary"
   ]
  },
  {
   "cell_type": "code",
   "execution_count": 11,
   "metadata": {},
   "outputs": [
    {
     "name": "stderr",
     "output_type": "stream",
     "text": [
      "The `load_in_4bit` and `load_in_8bit` arguments are deprecated and will be removed in the future versions. Please, pass a `BitsAndBytesConfig` object in `quantization_config` argument instead.\n",
      "`low_cpu_mem_usage` was None, now set to True since model is quantized.\n"
     ]
    },
    {
     "data": {
      "application/vnd.jupyter.widget-view+json": {
       "model_id": "ad300de3843d4c4188cbc9473f30a391",
       "version_major": 2,
       "version_minor": 0
      },
      "text/plain": [
       "model.safetensors:   0%|          | 0.00/1.88G [00:00<?, ?B/s]"
      ]
     },
     "metadata": {},
     "output_type": "display_data"
    },
    {
     "name": "stderr",
     "output_type": "stream",
     "text": [
      "c:\\Users\\farha\\miniconda3\\Lib\\site-packages\\huggingface_hub\\file_download.py:148: UserWarning: `huggingface_hub` cache-system uses symlinks by default to efficiently store duplicated files but your machine does not support them in C:\\Users\\farha\\.cache\\huggingface\\hub\\models--Salesforce--blip-image-captioning-large. Caching files will still work but in a degraded version that might require more space on your disk. This warning can be disabled by setting the `HF_HUB_DISABLE_SYMLINKS_WARNING` environment variable. For more details, see https://huggingface.co/docs/huggingface_hub/how-to-cache#limitations.\n",
      "To support symlinks on Windows, you either need to activate Developer Mode or to run Python as an administrator. In order to see activate developer mode, see this article: https://docs.microsoft.com/en-us/windows/apps/get-started/enable-your-device-for-development\n",
      "  warnings.warn(message)\n",
      "Some weights of BlipForConditionalGeneration were not initialized from the model checkpoint at Salesforce/blip-image-captioning-large and are newly initialized: ['text_decoder.cls.predictions.decoder.bias']\n",
      "You should probably TRAIN this model on a down-stream task to be able to use it for predictions and inference.\n"
     ]
    },
    {
     "name": "stdout",
     "output_type": "stream",
     "text": [
      "\n",
      "0: 640x640 1 person, 27.0ms\n",
      "Speed: 3.9ms preprocess, 27.0ms inference, 153.0ms postprocess per image at shape (1, 3, 640, 640)\n",
      "Description for Scene 1: Objects detected: person. Visual: there is a woman that is standing in front of a projector screen with her hands on her hips and a black shirt and red skirt with a red and black top and white striped skirt and grey skirt are standing next to a man who is holding a white board that has his hand on his right hand in the other hand with his left side of his chest and he is wearing a gray shirt with black and blue and gray and the same pants and his shirt, and is his pants, a blue, he has a brown and there are a grey shirt that are both are his arms are on the bottom, with red, his legs, in his neck, both with the back, on him and her, while he are in a maroon and him is on, the right, her and with him with two legs and she is in her neck and on a neck with both, she are wearing his and are with?? is he? are, that his, is her with, are? and that? with he and? a shirt is?,? his? her? on and in? she? that with she, there? of him are are her is the? in that she with an? he's?s are is,\n",
      "\n",
      "0: 640x640 (no detections), 29.0ms\n",
      "Speed: 3.0ms preprocess, 29.0ms inference, 1.0ms postprocess per image at shape (1, 3, 640, 640)\n",
      "Description for Scene 2: Objects detected: . Visual: stanford engineering logo on a white background with a red and black logo in the middle of the letters stanford, and an image of a man in a suit and a woman standing on the right side of an engineer's neck with his arms in front of his back to the back of him and behind him, with the text that says, that is a sign that reads, is the words, in his head and the man, on his face, the same, he is behind the other on that he are the front, a person, to him is on, are in that are his and on and he'i are on him?? that, at the bottom of that?,? are, i? and in this is, this? with? a? is? in? on? of? the? at? he? or that man? s? to me, for the sky? i, of me? - and thats? we are? about? it? from the sign, or the name, it, we? she? you? /? out? by? an? this man and with that and i am? what? there? for that on it is that s are at that with an i '?\n",
      "\n",
      "0: 640x640 1 tv, 1 laptop, 28.0ms\n",
      "Speed: 2.0ms preprocess, 28.0ms inference, 3.0ms postprocess per image at shape (1, 3, 640, 640)\n",
      "Description for Scene 3: Objects detected: laptop, tv. Visual: a screenshot of a computer screen with a message that reads, take a break from the war\n",
      "\n",
      "0: 640x640 1 laptop, 29.0ms\n",
      "Speed: 2.0ms preprocess, 29.0ms inference, 2.0ms postprocess per image at shape (1, 3, 640, 640)\n",
      "Description for Scene 4: Objects detected: laptop. Visual: a screenshot of a computer screen with a message in the middle of the screen and an image of an object on the right side of it\n",
      "\n",
      "0: 640x640 1 laptop, 29.0ms\n",
      "Speed: 2.0ms preprocess, 29.0ms inference, 3.0ms postprocess per image at shape (1, 3, 640, 640)\n",
      "Description for Scene 5: Objects detected: laptop. Visual: a screenshot of a computer screen with a message that reads, don't know how to use it\n"
     ]
    }
   ],
   "source": [
    "def detect_objects_in_frame(frame):\n",
    "    # YOLOv5 expects PIL images\n",
    "    pil_frame = Image.fromarray(frame)\n",
    "    results = yolo_model(pil_frame)\n",
    "    detected_objects = []\n",
    "    for result in results:\n",
    "        for cls in result.boxes.cls:\n",
    "            cls_name = yolo_model.names[int(cls)]\n",
    "            detected_objects.append(cls_name)\n",
    "    return detected_objects\n",
    "\n",
    "\n",
    "# Step 8: Generate descriptions with YOLOv5 and BLIP\n",
    "blip_processor = BlipProcessor.from_pretrained(\"Salesforce/blip-image-captioning-large\")\n",
    "blip_model = BlipForConditionalGeneration.from_pretrained(\"Salesforce/blip-image-captioning-large\", load_in_8bit=True)\n",
    "# blip_model.to(device)\n",
    "blip_model.eval()\n",
    "\n",
    "descriptions = []\n",
    "for i, transition_frame in enumerate(clustered_scenes):\n",
    "    key_frame = preprocessed_frames[transition_frame]\n",
    "    # Convert back to HWC format and to uint8\n",
    "    key_frame_img_uint8 = (key_frame * 255).astype(np.uint8).transpose(1, 2, 0)\n",
    "\n",
    "    # Detect objects using YOLOv5\n",
    "    detected_objects = detect_objects_in_frame(key_frame_img_uint8)\n",
    "\n",
    "    # BLIP Description Generation\n",
    "    inputs = blip_processor(images=key_frame_img_uint8, return_tensors=\"pt\").to(device)\n",
    "\n",
    "    # Modify the generation parameters to increase descriptiveness\n",
    "    outputs = blip_model.generate(**inputs, max_new_tokens=250, num_beams=10, length_penalty=2.0, no_repeat_ngram_size=2)\n",
    "\n",
    "    visual_description = blip_processor.decode(outputs[0], skip_special_tokens=True)\n",
    "\n",
    "    # Combine detected objects and BLIP description\n",
    "    combined_description = f\"Objects detected: {', '.join(detected_objects)}. Visual: {visual_description}\"\n",
    "\n",
    "    descriptions.append(f\"Scene {i+1}: {combined_description}\")\n",
    "    print(f\"Description for Scene {i+1}: {combined_description}\")"
   ]
  },
  {
   "cell_type": "code",
   "execution_count": 12,
   "metadata": {},
   "outputs": [],
   "source": [
    "# Step 9: Text Detection with Google Cloud Vision\n",
    "def detect_text_from_frames(frame_folder):\n",
    "    text_data = []\n",
    "    client = vision.ImageAnnotatorClient()\n",
    "\n",
    "    # Iterate over all frames in the folder\n",
    "    for frame_file in os.listdir(frame_folder):\n",
    "        frame_path = os.path.join(frame_folder, frame_file)\n",
    "\n",
    "        # Read the frame image\n",
    "        with open(frame_path, \"rb\") as image_file:\n",
    "            content = image_file.read()\n",
    "\n",
    "        # Perform text detection on the frame\n",
    "        image = vision.Image(content=content)\n",
    "        response = client.text_detection(image=image)\n",
    "        texts = response.text_annotations\n",
    "\n",
    "        # Collect all detected texts from this frame\n",
    "        frame_texts = [text.description for text in texts]\n",
    "\n",
    "        # Join all the detected text in this frame into a single string\n",
    "        detected_text_str = \" \".join(frame_texts)\n",
    "        if detected_text_str:  # If there was any text detected\n",
    "            text_data.append(f\"Detected in {frame_file}: {detected_text_str}\")\n",
    "\n",
    "    return text_data"
   ]
  },
  {
   "cell_type": "code",
   "execution_count": 13,
   "metadata": {},
   "outputs": [
    {
     "name": "stderr",
     "output_type": "stream",
     "text": [
      "100%|█████████████████████████████████████| 1.42G/1.42G [04:58<00:00, 5.12MiB/s]\n"
     ]
    }
   ],
   "source": [
    "# Step 10: Combine Descriptions and Audio Transcription\n",
    "video_transcript = transcribe_audio(video_path)  # Transcribe the video\n",
    "detected_texts_from_frames = detect_text_from_frames(\"./video_frames\")"
   ]
  },
  {
   "cell_type": "code",
   "execution_count": 14,
   "metadata": {},
   "outputs": [],
   "source": [
    "# Meaningfully combine the transcript, descriptions, and detected text\n",
    "combined_text = f\"{video_transcript} {' '.join(descriptions)} {' '.join(detected_texts_from_frames)}\""
   ]
  },
  {
   "cell_type": "code",
   "execution_count": 17,
   "metadata": {},
   "outputs": [],
   "source": [
    "# # DEBUGGING PURPOSES ONLY\n",
    "save_path = \"combined_text.txt\"\n",
    "\n",
    "# # Save the combined text.\n",
    "# with open(save_path, \"w\") as f:\n",
    "#     f.write(combined_text)\n",
    "\n",
    "# Load the combined text.\n",
    "with open(save_path, \"r\") as f:\n",
    "    combined_text = f.read()"
   ]
  },
  {
   "cell_type": "code",
   "execution_count": 21,
   "metadata": {},
   "outputs": [],
   "source": [
    "# Step 11: Final Summary using summarization model\n",
    "summarizer = pipeline(\"summarization\", model=\"facebook/bart-large-cnn\", device=0 if torch.cuda.is_available() else -1)  # Use mBART for summarization"
   ]
  },
  {
   "cell_type": "code",
   "execution_count": 22,
   "metadata": {},
   "outputs": [],
   "source": [
    "summary_text = summarize_text(combined_text, summarizer)"
   ]
  },
  {
   "cell_type": "code",
   "execution_count": null,
   "metadata": {},
   "outputs": [],
   "source": [
    "print(\"Generated Summary:\")\n",
    "print(summary_text)"
   ]
  }
 ],
 "metadata": {
  "kernelspec": {
   "display_name": "base",
   "language": "python",
   "name": "python3"
  },
  "language_info": {
   "codemirror_mode": {
    "name": "ipython",
    "version": 3
   },
   "file_extension": ".py",
   "mimetype": "text/x-python",
   "name": "python",
   "nbconvert_exporter": "python",
   "pygments_lexer": "ipython3",
   "version": "3.12.2"
  }
 },
 "nbformat": 4,
 "nbformat_minor": 2
}
